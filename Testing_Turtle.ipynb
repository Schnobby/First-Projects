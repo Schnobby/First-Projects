{
 "cells": [
  {
   "cell_type": "markdown",
   "metadata": {},
   "source": [
    "# Testing with Turtle"
   ]
  },
  {
   "cell_type": "markdown",
   "metadata": {},
   "source": [
    "## A star with 6 different colors"
   ]
  },
  {
   "cell_type": "code",
   "execution_count": 10,
   "metadata": {},
   "outputs": [],
   "source": [
    "import turtle as tu\n",
    "\n",
    "for i in range(6):\n",
    "    for c in [\"blue\", \"red\", \"green\", \"yellow\", \"black\", \"silver\"]:\n",
    "        tu.color(c)\n",
    "        tu.forward(100)\n",
    "        tu.goto(0, 0)\n",
    "        tu.left(10)\n",
    "\n",
    "tu.hideturtle()\n",
    "tu.done()"
   ]
  },
  {
   "cell_type": "markdown",
   "metadata": {},
   "source": [
    "The challenge for me here was to bring the turtle back to position 0, 0 after every stroke. First I drew 2 strokes one forward and one backwards for the same line, then I discovered the goto-command and it was easily resolved."
   ]
  },
  {
   "cell_type": "markdown",
   "metadata": {},
   "source": [
    "## 6 different colored circles with the same distance apart from each other and the same middle point"
   ]
  },
  {
   "cell_type": "code",
   "execution_count": 14,
   "metadata": {},
   "outputs": [],
   "source": [
    "import turtle as tu\n",
    "\n",
    "i = 10\n",
    "\n",
    "for c in [\"blue\", \"red\", \"green\", \"yellow\", \"black\", \"silver\"]:\n",
    "    tu.color(c)\n",
    "    tu.penup()\n",
    "    tu.goto(0, -i)\n",
    "    tu.pendown()\n",
    "    tu.circle(i)\n",
    "    i = i + 10\n",
    "\n",
    "tu.hideturtle()\n",
    "tu.done()"
   ]
  },
  {
   "cell_type": "markdown",
   "metadata": {},
   "source": [
    "Here I discovered that the goto-command also draws a line. I had to work with penup and pendown"
   ]
  },
  {
   "cell_type": "markdown",
   "metadata": {},
   "source": [
    "## Playing with Fractal Trees \n",
    "\n",
    "Basic tree that needs modifying."
   ]
  },
  {
   "cell_type": "code",
   "execution_count": 1,
   "metadata": {},
   "outputs": [],
   "source": [
    "import turtle as tu\n",
    "\n",
    "bob = tu.Turtle()\n",
    "bob.left(90)\n",
    "bob.speed(0)\n",
    "\n",
    "def draw(l):\n",
    "    if (l < 1):\n",
    "        return\n",
    "    else:\n",
    "     bob.forward(l)\n",
    "     bob.left(45)\n",
    "     draw(l/2)\n",
    "     bob.right(90)\n",
    "     draw(l/2)\n",
    "     bob.left(45)\n",
    "     bob.backward(l)\n",
    "\n",
    "draw(50)\n",
    "\n",
    "\n",
    "bob.hideturtle()\n",
    "tu.done()"
   ]
  },
  {
   "cell_type": "markdown",
   "metadata": {},
   "source": [
    "Added two more branches to the loop and shortened the incremental decline of the branch-length to add more loops"
   ]
  },
  {
   "cell_type": "code",
   "execution_count": 1,
   "metadata": {},
   "outputs": [],
   "source": [
    "import turtle as tu\n",
    "\n",
    "bob = tu.Turtle()\n",
    "bob.left(90)\n",
    "bob.speed(0)\n",
    "\n",
    "def draw(l):\n",
    "    if (l < 10):\n",
    "        return\n",
    "    else:\n",
    "     bob.forward(l)\n",
    "     bob.left(45)\n",
    "     draw(3*l/4)\n",
    "     bob.right(30)\n",
    "     draw(3*l/4)\n",
    "     bob.right(30)\n",
    "     draw(3*l/4)\n",
    "     bob.right(30)\n",
    "     draw(3*l/4)\n",
    "     bob.left(45)\n",
    "     bob.backward(l)\n",
    "\n",
    "draw(50)\n",
    "\n",
    "\n",
    "bob.hideturtle()\n",
    "tu.done()"
   ]
  },
  {
   "cell_type": "markdown",
   "metadata": {},
   "source": [
    "Make the trunk and branches brown and the last increment green"
   ]
  },
  {
   "cell_type": "code",
   "execution_count": 1,
   "metadata": {},
   "outputs": [],
   "source": [
    "import turtle as tu\n",
    "\n",
    "bob = tu.Turtle()\n",
    "bob.left(90)\n",
    "bob.speed(0)\n",
    "\n",
    "def draw(l):\n",
    "    if (l < 10):\n",
    "        bob.color('green')\n",
    "        bob.left(45)\n",
    "        bob.forward(l)\n",
    "        bob.backward(l)\n",
    "        bob.right(30)\n",
    "        bob.forward(l)\n",
    "        bob.backward(l)\n",
    "        bob.right(30)\n",
    "        bob.forward(l)\n",
    "        bob.backward(l)\n",
    "        bob.right(30)\n",
    "        bob.forward(l)\n",
    "        bob.backward(l)\n",
    "        bob.left(45)\n",
    "        bob.color('brown')\n",
    "        return\n",
    "    else:\n",
    "     bob.color('brown')\n",
    "     bob.forward(l)\n",
    "     bob.left(45)\n",
    "     draw(3*l/4)\n",
    "     bob.right(30)\n",
    "     draw(3*l/4)\n",
    "     bob.right(30)\n",
    "     draw(3*l/4)\n",
    "     bob.right(30)\n",
    "     draw(3*l/4)\n",
    "     bob.left(45)\n",
    "     bob.backward(l)\n",
    "\n",
    "\n",
    "draw(50)\n",
    "\n",
    "bob.hideturtle()\n",
    "tu.done()"
   ]
  },
  {
   "cell_type": "markdown",
   "metadata": {},
   "source": [
    "## Closed shapes with flexible increments and size going round"
   ]
  },
  {
   "cell_type": "code",
   "execution_count": 1,
   "metadata": {},
   "outputs": [],
   "source": [
    "import turtle as tu\n",
    "\n",
    "bob = tu.Turtle()\n",
    "bob.left(90)\n",
    "bob.speed(0)\n",
    "\n",
    "def shape(size, increment):\n",
    "    for i in range(increment):\n",
    "        bob.forward(size)\n",
    "        bob.left(360/increment)\n",
    "\n",
    "for i in range(40):\n",
    "        shape(5*i, 4)\n",
    "        bob.left(i)\n",
    "\n",
    "\n",
    "bob.hideturtle()\n",
    "tu.done()"
   ]
  },
  {
   "cell_type": "markdown",
   "metadata": {},
   "source": [
    "## Triangles around a circle to form a flower"
   ]
  },
  {
   "cell_type": "code",
   "execution_count": 1,
   "metadata": {},
   "outputs": [],
   "source": [
    "import turtle as tu\n",
    "\n",
    "bob = tu.Turtle()\n",
    "bob.speed(0)\n",
    "\n",
    "\n",
    "def shape(size, increment):\n",
    "    for i in range(increment+1):\n",
    "        if i == 0:\n",
    "            bob.forward(size/2)\n",
    "            bob.left(360/increment)\n",
    "        elif i == increment:\n",
    "            bob.forward(size/2)\n",
    "        else:\n",
    "            bob.forward(size)\n",
    "            bob.left(360/increment)\n",
    "\n",
    "d = 100\n",
    "\n",
    "#bob.circle(d/(2*(3**0.5)))\n",
    "\n",
    "for i in range(12):\n",
    "        shape(d, 3)\n",
    "        bob.penup()\n",
    "        bob.circle(d/(2*(3**0.5)), 10)\n",
    "        bob.pendown()\n",
    "\n",
    "\n",
    "bob.hideturtle()\n",
    "tu.done()"
   ]
  },
  {
   "cell_type": "markdown",
   "metadata": {},
   "source": [
    "That was it for playing around with Turtle"
   ]
  }
 ],
 "metadata": {
  "kernelspec": {
   "display_name": "Python 3",
   "language": "python",
   "name": "python3"
  },
  "language_info": {
   "codemirror_mode": {
    "name": "ipython",
    "version": 3
   },
   "file_extension": ".py",
   "mimetype": "text/x-python",
   "name": "python",
   "nbconvert_exporter": "python",
   "pygments_lexer": "ipython3",
   "version": "3.7.6"
  }
 },
 "nbformat": 4,
 "nbformat_minor": 4
}
