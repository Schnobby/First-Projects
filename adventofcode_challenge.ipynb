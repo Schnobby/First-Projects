{
 "cells": [
  {
   "cell_type": "markdown",
   "metadata": {},
   "source": [
    "# Advent of Code Coding Challenge\n",
    "\n",
    "I'm doing the advent of code coding challenge to improve my python skills\n",
    "\n",
    "https://adventofcode.com/2019/day/1\n",
    "\n",
    "## Day 1\n",
    "### Part 1\n",
    "\n",
    "For the day1 challenge I create a csv to store the mass of the modules so I could apply a function on the mass"
   ]
  },
  {
   "cell_type": "code",
   "execution_count": 2,
   "metadata": {},
   "outputs": [
    {
     "name": "stdout",
     "output_type": "stream",
     "text": [
      "3301059\n"
     ]
    }
   ],
   "source": [
    "import pandas as pd\n",
    "\n",
    "df = pd.read_csv(\"a.csv\")\n",
    "df[\"b\"] = df[\"a\"].apply(lambda x: int(x/3)-2)\n",
    "\n",
    "print(df[\"b\"].sum())"
   ]
  },
  {
   "cell_type": "markdown",
   "metadata": {},
   "source": [
    "## Day 1\n",
    "### Part 2"
   ]
  },
  {
   "cell_type": "code",
   "execution_count": 3,
   "metadata": {},
   "outputs": [
    {
     "name": "stdout",
     "output_type": "stream",
     "text": [
      "4948732\n"
     ]
    }
   ],
   "source": [
    "import pandas as pd\n",
    "\n",
    "df = pd.read_csv(\"a.csv\")\n",
    "df[\"b\"] = df[\"a\"].apply(lambda x: int(x/3)-2)\n",
    "\n",
    "def f_add(fuel):\n",
    "    a = [fuel]\n",
    "    while fuel > 0:\n",
    "        fuel = int(fuel/3) - 2\n",
    "        if fuel > 0:\n",
    "            a.append(fuel)\n",
    "    b = sum(a)\n",
    "    return b\n",
    "\n",
    "df[\"c\"] = df[\"b\"].apply(lambda x: f_add(x))\n",
    "\n",
    "print(df[\"c\"].sum())"
   ]
  },
  {
   "cell_type": "markdown",
   "metadata": {},
   "source": [
    "## Day 2\n",
    "### Part 1"
   ]
  },
  {
   "cell_type": "code",
   "execution_count": 7,
   "metadata": {},
   "outputs": [
    {
     "name": "stdout",
     "output_type": "stream",
     "text": [
      "3085697\n"
     ]
    }
   ],
   "source": [
    "list = [1,0,0,3,1,1,2,3,1,3,4,3,1,5,0,3,2,10,1,19,1,19,9,23,1,23,13,27,1,10,27,31,2,31,13,35,1,10,35,39,2,9,39,43,2,43,9,47,1,6,47,51,1,10,51,55,2,55,13,59,1,59,10,63,2,63,13,67,2,67,9,71,1,6,71,75,2,75,9,79,1,79,5,83,2,83,13,87,1,9,87,91,1,13,91,95,1,2,95,99,1,99,6,0,99,2,14,0,0]\n",
    "\n",
    "list[1] = 12\n",
    "list[2] = 2\n",
    "\n",
    "for i in range(0, len(list), 4):\n",
    "    if list[i] == 1:\n",
    "        list[list[i+3]] = list[list[i+1]] + list[list[i+2]]\n",
    "    elif list[i] == 2:\n",
    "        list[list[i+3]] = list[list[i+1]] * list[list[i+2]]\n",
    "    elif list[i] == 99:\n",
    "        break\n",
    "\n",
    "print(list[0])"
   ]
  },
  {
   "cell_type": "markdown",
   "metadata": {},
   "source": [
    "### Part 2"
   ]
  },
  {
   "cell_type": "code",
   "execution_count": 13,
   "metadata": {},
   "outputs": [
    {
     "name": "stdout",
     "output_type": "stream",
     "text": [
      "9425\n",
      "9425\n",
      "9425\n",
      "9425\n",
      "9425\n"
     ]
    }
   ],
   "source": [
    "blub = [1,0,0,3,1,1,2,3,1,3,4,3,1,5,0,3,2,10,1,19,1,19,9,23,1,23,13,27,1,10,27,31,2,31,13,35,1,10,35,39,2,9,39,43,2,43,9,47,1,6,47,51,1,10,51,55,2,55,13,59,1,59,10,63,2,63,13,67,2,67,9,71,1,6,71,75,2,75,9,79,1,79,5,83,2,83,13,87,1,9,87,91,1,13,91,95,1,2,95,99,1,99,6,0,99,2,14,0,0]\n",
    "\n",
    "for j in range(0, 99):\n",
    "    for k in range(0, 99):\n",
    "        if blub[0] != 19690720:\n",
    "            blub = [1,0,0,3,1,1,2,3,1,3,4,3,1,5,0,3,2,10,1,19,1,19,9,23,1,23,13,27,1,10,27,31,2,31,13,35,1,10,35,39,2,9,39,43,2,43,9,47,1,6,47,51,1,10,51,55,2,55,13,59,1,59,10,63,2,63,13,67,2,67,9,71,1,6,71,75,2,75,9,79,1,79,5,83,2,83,13,87,1,9,87,91,1,13,91,95,1,2,95,99,1,99,6,0,99,2,14,0,0]\n",
    "            blub[1] = j\n",
    "            blub[2] = k\n",
    "            for i in range(0, len(blub), 4):\n",
    "                if blub[i] == 1:\n",
    "                    blub[blub[i+3]] = blub[blub[i+1]] + blub[blub[i+2]]\n",
    "                elif blub[i] == 2:\n",
    "                    blub[blub[i+3]] = blub[blub[i+1]] * blub[blub[i+2]]\n",
    "                elif blub[i] == 99:\n",
    "                    break\n",
    "        else:\n",
    "            print(100*blub[1] + blub[2]),\n",
    "            break"
   ]
  },
  {
   "cell_type": "code",
   "execution_count": null,
   "metadata": {},
   "outputs": [],
   "source": []
  }
 ],
 "metadata": {
  "kernelspec": {
   "display_name": "Python 3",
   "language": "python",
   "name": "python3"
  },
  "language_info": {
   "codemirror_mode": {
    "name": "ipython",
    "version": 3
   },
   "file_extension": ".py",
   "mimetype": "text/x-python",
   "name": "python",
   "nbconvert_exporter": "python",
   "pygments_lexer": "ipython3",
   "version": "3.7.6"
  }
 },
 "nbformat": 4,
 "nbformat_minor": 4
}
